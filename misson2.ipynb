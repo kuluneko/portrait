{
 "cells": [
  {
   "cell_type": "code",
   "execution_count": 72,
   "metadata": {},
   "outputs": [],
   "source": [
    "#2.1\n",
    "import pandas as pd\n",
    "import numpy as py\n",
    "import matplotlib.pyplot as plt\n",
    "import matplotlib as mpl\n",
    "import datetime as dt"
   ]
  },
  {
   "cell_type": "code",
   "execution_count": 73,
   "metadata": {},
   "outputs": [],
   "source": [
    "#导入数据\n",
    "data1 = pd.read_excel('./cumcm2018c1.xlsx')\n",
    "data2 = pd.read_csv('./cumcm2018c2.csv', encoding='UTF-8')"
   ]
  },
  {
   "cell_type": "code",
   "execution_count": 74,
   "metadata": {},
   "outputs": [],
   "source": [
    "#转化为日期格式数据\n",
    "data1['csrq'] = pd.to_datetime(data1['csrq']) \n",
    "data1['djsj'] = pd.to_datetime(data1['djsj'])\n",
    "data2['dtime'] = pd.to_datetime(data2['dtime'])"
   ]
  },
  {
   "cell_type": "code",
   "execution_count": 75,
   "metadata": {},
   "outputs": [
    {
     "name": "stdout",
     "output_type": "stream",
     "text": [
      "(194740,)\n"
     ]
    }
   ],
   "source": [
    "#重复值处理\n",
    "data1['kh'] = data1['kh'].drop_duplicates()\n",
    "print(data1['kh'].shape)"
   ]
  },
  {
   "cell_type": "code",
   "execution_count": 76,
   "metadata": {},
   "outputs": [
    {
     "data": {
      "text/plain": [
       "kh       0\n",
       "dtime    0\n",
       "spbm     0\n",
       "sl       0\n",
       "sj       0\n",
       "je       0\n",
       "spmc     0\n",
       "jf       0\n",
       "syjh     0\n",
       "djh      0\n",
       "gzbm     0\n",
       "gzmc     0\n",
       "dtype: int64"
      ]
     },
     "execution_count": 76,
     "metadata": {},
     "output_type": "execute_result"
    }
   ],
   "source": [
    "#缺失值处理\n",
    "data1 = data1.dropna()\n",
    "data2 = data2.dropna()\n",
    "data1.isnull().sum()\n",
    "data2.isnull().sum()"
   ]
  },
  {
   "cell_type": "code",
   "execution_count": 77,
   "metadata": {},
   "outputs": [
    {
     "name": "stdout",
     "output_type": "stream",
     "text": [
      "           sl       sj       je      jf    syjh    gzbm\n",
      "count  849697   849697   849697  849697  849697  849697\n",
      "mean        1     1400     1375    1066     106    6313\n",
      "std         1     3247     3238    2012      82    2373\n",
      "min         1        0        0       0       1    1001\n",
      "25%         1      330      324     190      41    4334\n",
      "50%         1      695      690     520      97    8064\n",
      "75%         1     1584     1550    1282     156    8123\n",
      "max      1492  1342515  1342515  268503     320    9005\n"
     ]
    }
   ],
   "source": [
    "#异常值处理\n",
    "data2.describe().astype(int)\n",
    "data2 = data2.drop(data2[data2.sl < 0].index)\n",
    "data2 = data2.drop(data2[data2.je < 0].index)\n",
    "data2 = data2.drop(data2[data2.jf < 0].index)\n",
    "print(data2.describe().astype(int))"
   ]
  },
  {
   "cell_type": "code",
   "execution_count": 78,
   "metadata": {},
   "outputs": [
    {
     "name": "stdout",
     "output_type": "stream",
     "text": [
      "count    136277.000000\n",
      "mean         41.506498\n",
      "std          10.326457\n",
      "min          15.000000\n",
      "25%          33.000000\n",
      "50%          41.000000\n",
      "75%          49.000000\n",
      "max         100.000000\n",
      "Name: age, dtype: float64\n"
     ]
    }
   ],
   "source": [
    "#年龄计算\n",
    "now_year = dt.date.today().year-2\n",
    "data1['age']=now_year-age.csrq.dt.year\n",
    "#将年龄不符合常理的数据剔除\n",
    "data1 = data1.drop(data1[data1.age > 100].index)\n",
    "data1 = data1.drop(data1[data1.age < 15].index)\n",
    "print(data1['age'].describe())"
   ]
  },
  {
   "cell_type": "code",
   "execution_count": 79,
   "metadata": {},
   "outputs": [],
   "source": [
    "#年龄分层\n",
    "listBins = [15,35,60,100]\n",
    "listLabels = ['青年人', '中年人', '老年人']\n",
    "ap = data1[['age']]\n",
    "for i in ap:\n",
    "    data1['age_group'] = pd.cut(data1[i], bins=listBins, labels=listLabels, include_lowest=True)\n",
    "print(data1['age_group'].value_counts())"
   ]
  },
  {
   "cell_type": "code",
   "execution_count": 83,
   "metadata": {},
   "outputs": [
    {
     "data": {
      "image/png": "[encoded data removed]",
      "text/plain": [
       "<Figure size 288x288 with 1 Axes>"
      ]
     },
     "metadata": {},
     "output_type": "display_data"
    }
   ],
   "source": [
    "#构建年龄比例图\n",
    "x = [85689, 44705, 5883]\n",
    "labels =['youth ', 'middle age', 'old age']\n",
    "plt.figure(figsize=(4, 4))\n",
    "plt.pie(x,labels = labels, \n",
    "        autopct = '%3.1f%%',\n",
    "        shadow = True,\n",
    "        colors = ['c', 'r', 'gray'])\n",
    "plt.savefig('./年龄对比.png')\n",
    "plt.show()"
   ]
  },
  {
   "cell_type": "code",
   "execution_count": 90,
   "metadata": {},
   "outputs": [
    {
     "name": "stdout",
     "output_type": "stream",
     "text": [
      "  age_group         je\n",
      "0       青年人  115097625\n",
      "1       中年人  439875728\n",
      "2       老年人   15406618\n"
     ]
    }
   ],
   "source": [
    "data = pd.merge(data1,data2, on='kh')\n",
    "sum = data['je'].groupby(data['age_group']).sum().astype(int).reset_index()\n",
    "print(sum)"
   ]
  },
  {
   "cell_type": "code",
   "execution_count": 92,
   "metadata": {},
   "outputs": [
    {
     "data": {
      "image/png": "[encoded data removed]",
      "text/plain": [
       "<Figure size 432x288 with 1 Axes>"
      ]
     },
     "metadata": {
      "needs_background": "light"
     },
     "output_type": "display_data"
    }
   ],
   "source": [
    "#构建年龄比例消费图\n",
    "y_data = sum.je\n",
    "x_data = ['youth', 'middle age', 'old age']\n",
    "plt.bar(x_data, y_data)\n",
    "plt.savefig('./年龄消费.png')\n",
    "plt.show()"
   ]
  },
  {
   "cell_type": "code",
   "execution_count": 102,
   "metadata": {},
   "outputs": [
    {
     "name": "stdout",
     "output_type": "stream",
     "text": [
      "    xb      kh\n",
      "0  0.0  106938\n",
      "1  1.0   29339\n"
     ]
    }
   ],
   "source": [
    "#性别人数计算\n",
    "sex = data1.groupby('xb')['kh'].count().reset_index()\n",
    "print(sex)"
   ]
  },
  {
   "cell_type": "code",
   "execution_count": 103,
   "metadata": {},
   "outputs": [
    {
     "data": {
      "image/png": "[encoded data removed]",
      "text/plain": [
       "<Figure size 288x288 with 1 Axes>"
      ]
     },
     "metadata": {},
     "output_type": "display_data"
    }
   ],
   "source": [
    "#构建性别比例图\n",
    "x = [106938,29339]\n",
    "labels =['woman', 'man']\n",
    "plt.figure(figsize=(4, 4))\n",
    "plt.pie(x,labels = labels, \n",
    "        autopct = '%3.1f%%',\n",
    "        shadow = True,\n",
    "        colors = ['c', 'r'])\n",
    "plt.savefig('./性别对比.png')\n",
    "plt.show()"
   ]
  },
  {
   "cell_type": "code",
   "execution_count": 104,
   "metadata": {},
   "outputs": [
    {
     "name": "stdout",
     "output_type": "stream",
     "text": [
      "    xb      je\n",
      "0  0.0  358415\n",
      "1  1.0   45624\n"
     ]
    }
   ],
   "source": [
    "#性别消费计算\n",
    "sex_cus = data.groupby('xb')['je'].count().reset_index()\n",
    "print(sex_cus)"
   ]
  },
  {
   "cell_type": "code",
   "execution_count": 105,
   "metadata": {},
   "outputs": [
    {
     "data": {
      "image/png": "[encoded data removed]",
      "text/plain": [
       "<Figure size 288x288 with 1 Axes>"
      ]
     },
     "metadata": {},
     "output_type": "display_data"
    }
   ],
   "source": [
    "#构建性别消费比例图\n",
    "x = [358415,45624]\n",
    "labels =['woman_cus', 'man_cus']\n",
    "plt.figure(figsize=(4, 4))\n",
    "plt.pie(x,labels = labels, \n",
    "        autopct = '%3.1f%%',\n",
    "        shadow = True,\n",
    "        colors = ['c', 'r'])\n",
    "plt.savefig('./性别消费占比.png')\n",
    "plt.show()"
   ]
  },
  {
   "cell_type": "code",
   "execution_count": 114,
   "metadata": {},
   "outputs": [
    {
     "name": "stdout",
     "output_type": "stream",
     "text": [
      "404039 445658\n"
     ]
    }
   ],
   "source": [
    "#2.2统计会员与非会员订单数\n",
    "yh = data['djh'].count()\n",
    "b = data2['djh'].count()\n",
    "nh = b - yh\n",
    "print(yh,nh)"
   ]
  },
  {
   "cell_type": "code",
   "execution_count": 116,
   "metadata": {},
   "outputs": [
    {
     "data": {
      "image/png": "[encoded data removed]",
      "text/plain": [
       "<Figure size 288x288 with 1 Axes>"
      ]
     },
     "metadata": {},
     "output_type": "display_data"
    },
    {
     "data": {
      "image/png": "[encoded data removed]",
      "text/plain": [
       "<Figure size 432x288 with 1 Axes>"
      ]
     },
     "metadata": {
      "needs_background": "light"
     },
     "output_type": "display_data"
    }
   ],
   "source": [
    "#构建会员订单数图例\n",
    "x = [404039,445658]\n",
    "labels =['Member', 'Non member']\n",
    "plt.figure(figsize=(4, 4))\n",
    "plt.pie(x,labels = labels, \n",
    "        autopct = '%3.1f%%',\n",
    "        shadow = True,\n",
    "        colors = ['c', 'r'])\n",
    "plt.savefig('./会员订单数占比.png')\n",
    "plt.show()\n",
    "\n",
    "y_data = [yh, nh]\n",
    "x_data = ['Member', 'Non member']\n",
    "plt.bar(x_data, y_data)\n",
    "plt.savefig('./会员订单数.png')\n",
    "plt.show()"
   ]
  },
  {
   "cell_type": "code",
   "execution_count": 130,
   "metadata": {},
   "outputs": [],
   "source": [
    "hy = data[['kh','sl','je']]\n",
    "fhy = data2[['kh','sl','je']]"
   ]
  },
  {
   "cell_type": "code",
   "execution_count": 131,
   "metadata": {},
   "outputs": [
    {
     "name": "stdout",
     "output_type": "stream",
     "text": [
      "570379971.6499999 1169016739.3999999\n"
     ]
    }
   ],
   "source": [
    "hy_cus = hy['je'].sum()\n",
    "total_cus = fhy['je'].sum()\n",
    "print(hy_cus,total_cus)"
   ]
  },
  {
   "cell_type": "code",
   "execution_count": 132,
   "metadata": {},
   "outputs": [
    {
     "name": "stdout",
     "output_type": "stream",
     "text": [
      "570379971.6499999 598636767.75\n"
     ]
    }
   ],
   "source": [
    "fhy_cus = total_cus-hy_cus\n",
    "print(hy_cus,fhy_cus)"
   ]
  },
  {
   "cell_type": "code",
   "execution_count": 134,
   "metadata": {},
   "outputs": [
    {
     "data": {
      "image/png": "[encoded data removed]",
      "text/plain": [
       "<Figure size 288x288 with 1 Axes>"
      ]
     },
     "metadata": {},
     "output_type": "display_data"
    },
    {
     "data": {
      "image/png": "[encoded data removed]",
      "text/plain": [
       "<Figure size 432x288 with 1 Axes>"
      ]
     },
     "metadata": {
      "needs_background": "light"
     },
     "output_type": "display_data"
    }
   ],
   "source": [
    "#构建会员消费总额图例\n",
    "x = [570379971.6499999,598636767.75]\n",
    "labels =['Member', 'Non member']\n",
    "plt.figure(figsize=(4, 4))\n",
    "plt.pie(x,labels = labels, \n",
    "        autopct = '%3.1f%%',\n",
    "        shadow = True,\n",
    "        colors = ['c', 'r'])\n",
    "plt.savefig('./会员消费总额占比.png')\n",
    "plt.show()\n",
    "\n",
    "y_data = [hy_cus, fhy_cus]\n",
    "x_data = ['Member_cus', 'Non member_cus']\n",
    "plt.bar(x_data, y_data)\n",
    "plt.savefig('./会员消费总额.png')\n",
    "plt.show()"
   ]
  },
  {
   "cell_type": "code",
   "execution_count": 138,
   "metadata": {},
   "outputs": [],
   "source": [
    "data['year'] = data.dtime.dt.year\n",
    "data['month'] = data.dtime.dt.month"
   ]
  },
  {
   "cell_type": "code",
   "execution_count": 139,
   "metadata": {},
   "outputs": [],
   "source": [
    "#年份消费统计\n",
    "year_cus = data['je'].groupby(data['year'])\n",
    "year_cus = year_cus.sum().reset_index()\n",
    "year = []\n",
    "year_total = []\n",
    "for i in year_cus['year']:\n",
    "    year.append(i)\n",
    "for i in year_cus['je']:\n",
    "    year_total.append(i)"
   ]
  },
  {
   "cell_type": "code",
   "execution_count": 140,
   "metadata": {},
   "outputs": [
    {
     "data": {
      "image/png": "[encoded data removed]",
      "text/plain": [
       "<Figure size 432x288 with 1 Axes>"
      ]
     },
     "metadata": {
      "needs_background": "light"
     },
     "output_type": "display_data"
    }
   ],
   "source": [
    "#绘制年度会员消费金额\n",
    "y_data = year_total\n",
    "x_data = ['2015', '2016', '2017', '2018']\n",
    "plt.bar(x_data, y_data)   \n",
    "plt.savefig('./年度会员消费金额.png')      \n",
    "plt.show()"
   ]
  },
  {
   "cell_type": "code",
   "execution_count": 141,
   "metadata": {},
   "outputs": [],
   "source": [
    "#不同年度各个月份消费金额统计\n",
    "month_cus = data['je'].groupby([data['year'],data['month']])\n",
    "month_cus = month_cus.sum().reset_index()"
   ]
  },
  {
   "cell_type": "code",
   "execution_count": 144,
   "metadata": {},
   "outputs": [],
   "source": [
    "cus15 =  month_cus[['month', 'je']].iloc[0:9]\n",
    "cus16 =  month_cus[['month', 'je']].iloc[9:20]\n",
    "cus17 =  month_cus[['month', 'je']].iloc[20:32]\n",
    "cus18 =  month_cus[['month', 'je']].iloc[32:33]"
   ]
  },
  {
   "cell_type": "code",
   "execution_count": 145,
   "metadata": {},
   "outputs": [],
   "source": [
    "total_15 = []\n",
    "month_15 = []\n",
    "for i in cus15['je']:\n",
    "    total_15.append(i)\n",
    "\n",
    "total_16 = []\n",
    "for i in cus16['je']:\n",
    "    total_16.append(i)\n",
    "    \n",
    "total_17 = []\n",
    "for i in cus17['je']:\n",
    "    total_17.append(i)\n",
    "\n",
    "total_18 = []\n",
    "for i in cus18['je']:\n",
    "    total_18.append(i)\n",
    "    "
   ]
  },
  {
   "cell_type": "code",
   "execution_count": 146,
   "metadata": {},
   "outputs": [
    {
     "data": {
      "image/png": "[encoded data removed]",
      "text/plain": [
       "<Figure size 432x288 with 1 Axes>"
      ]
     },
     "metadata": {
      "needs_background": "light"
     },
     "output_type": "display_data"
    }
   ],
   "source": [
    "#绘制2015年会员各月份消费图\n",
    "plt.rcParams['font.sans-serif']=['SimHei']\n",
    "plt.rcParams['axes.unicode_minus'] = False\n",
    "y_data = total_15\n",
    "x_data = ['一月', '二月', '三月', '四月', '五月', '六月', '七月','八月','十二月']\n",
    "plt.title('2015年会员各月份消费金额图')\n",
    "plt.bar(x_data, y_data)   \n",
    "plt.savefig('./2015年会员各月份消费图.png')      \n",
    "plt.show()"
   ]
  },
  {
   "cell_type": "code",
   "execution_count": 147,
   "metadata": {},
   "outputs": [
    {
     "data": {
      "image/png": "[encoded data removed]",
      "text/plain": [
       "<Figure size 432x288 with 1 Axes>"
      ]
     },
     "metadata": {
      "needs_background": "light"
     },
     "output_type": "display_data"
    }
   ],
   "source": [
    "#绘制2016年会员各月份消费图\n",
    "plt.rcParams['font.sans-serif']=['SimHei']\n",
    "plt.rcParams['axes.unicode_minus'] = False\n",
    "y_data = total_16\n",
    "x_data = ['一月', '三月', '四月', '五月', '六月', '七月','八月','九月','十月','十一月','十二月']\n",
    "plt.title('2016年会员各月份消费金额图')\n",
    "plt.bar(x_data, y_data)   \n",
    "plt.savefig('./2016年会员各月份消费图.png')      \n",
    "plt.show()"
   ]
  },
  {
   "cell_type": "code",
   "execution_count": 148,
   "metadata": {},
   "outputs": [
    {
     "data": {
      "image/png": "[encoded data removed]",
      "text/plain": [
       "<Figure size 432x288 with 1 Axes>"
      ]
     },
     "metadata": {
      "needs_background": "light"
     },
     "output_type": "display_data"
    }
   ],
   "source": [
    "#绘制2017年会员各月份消费图\n",
    "plt.rcParams['font.sans-serif']=['SimHei']\n",
    "plt.rcParams['axes.unicode_minus'] = False\n",
    "y_data = total_17\n",
    "x_data = ['一月','二月', '三月', '四月', '五月', '六月', '七月','八月','九月','十月','十一月','十二月']\n",
    "plt.title('2017年会员各月份消费金额图')\n",
    "plt.bar(x_data, y_data)   \n",
    "plt.savefig('./2017年会员各月份消费图.png')      \n",
    "plt.show()"
   ]
  },
  {
   "cell_type": "code",
   "execution_count": 149,
   "metadata": {},
   "outputs": [
    {
     "data": {
      "image/png": "[encoded data removed]",
      "text/plain": [
       "<Figure size 432x288 with 1 Axes>"
      ]
     },
     "metadata": {
      "needs_background": "light"
     },
     "output_type": "display_data"
    }
   ],
   "source": [
    "#绘制2018年会员各月份消费图\n",
    "plt.rcParams['font.sans-serif']=['SimHei']\n",
    "plt.rcParams['axes.unicode_minus'] = False\n",
    "y_data = total_18\n",
    "x_data = ['一月']\n",
    "plt.title('2018年会员各月份消费金额图')\n",
    "plt.bar(x_data, y_data)   \n",
    "plt.savefig('./2018年会员各月份消费图.png')      \n",
    "plt.show()"
   ]
  },
  {
   "cell_type": "code",
   "execution_count": 150,
   "metadata": {},
   "outputs": [],
   "source": [
    "#2.3\n",
    "#时间段分层\n",
    "data['hour'] = data.dtime.dt.hour\n",
    "listBins = [0,6,11,13,18,24]\n",
    "listLabels = ['凌晨', '早上', '中午', '下午', '晚上']\n",
    "hg = data[['hour']]\n",
    "for i in hg:\n",
    "    data['hour_group'] = pd.cut(data[i], bins=listBins, labels=listLabels, include_lowest=True)"
   ]
  },
  {
   "cell_type": "code",
   "execution_count": 151,
   "metadata": {},
   "outputs": [],
   "source": [
    "hourgp = data['kh'].groupby(data['hour_group'])\n",
    "hourgp = hourgp.count().reset_index()\n",
    "hgp = []\n",
    "for i in hourgp['kh']:\n",
    "    hgp.append(i)"
   ]
  },
  {
   "cell_type": "code",
   "execution_count": 153,
   "metadata": {},
   "outputs": [
    {
     "data": {
      "image/png": "[encoded data removed]",
      "text/plain": [
       "<Figure size 432x288 with 1 Axes>"
      ]
     },
     "metadata": {
      "needs_background": "light"
     },
     "output_type": "display_data"
    }
   ],
   "source": [
    "plt.rcParams['font.sans-serif']=['SimHei']\n",
    "plt.rcParams['axes.unicode_minus'] = False\n",
    "y_data = hgp\n",
    "x_data = ['凌晨', '早上', '中午', '下午', '晚上']\n",
    "plt.bar(x_data, y_data)  \n",
    "plt.title('不同时间段会员人数统计')\n",
    "plt.savefig('./不同时间段会员人数统计.png')      \n",
    "plt.show()"
   ]
  },
  {
   "cell_type": "code",
   "execution_count": 155,
   "metadata": {},
   "outputs": [],
   "source": [
    "#季节分层\n",
    "data['month'] = data.dtime.dt.month\n",
    "listBins = [1,3,6,9,12]\n",
    "listLabels = ['冬季','春季','夏季','秋季']\n",
    "mg = data[['month']]\n",
    "for i in mg:\n",
    "    data['month_group'] = pd.cut(data[i], bins=listBins, right=False, labels=listLabels, include_lowest=True, duplicates='drop')\n",
    "\n",
    "data['year'] = data.dtime.dt.year\n",
    "data['month_group'] = data['month_group'].fillna('month_group')"
   ]
  },
  {
   "cell_type": "code",
   "execution_count": 166,
   "metadata": {},
   "outputs": [
    {
     "data": {
      "text/html": [
       "<div>\n",
       "<style scoped>\n",
       "    .dataframe tbody tr th:only-of-type {\n",
       "        vertical-align: middle;\n",
       "    }\n",
       "\n",
       "    .dataframe tbody tr th {\n",
       "        vertical-align: top;\n",
       "    }\n",
       "\n",
       "    .dataframe thead th {\n",
       "        text-align: right;\n",
       "    }\n",
       "</style>\n",
       "<table border=\"1\" class=\"dataframe\">\n",
       "  <thead>\n",
       "    <tr style=\"text-align: right;\">\n",
       "      <th></th>\n",
       "      <th>month</th>\n",
       "      <th>je</th>\n",
       "    </tr>\n",
       "  </thead>\n",
       "  <tbody>\n",
       "    <tr>\n",
       "      <td>20</td>\n",
       "      <td>1</td>\n",
       "      <td>2.338747e+07</td>\n",
       "    </tr>\n",
       "    <tr>\n",
       "      <td>21</td>\n",
       "      <td>2</td>\n",
       "      <td>1.294109e+07</td>\n",
       "    </tr>\n",
       "    <tr>\n",
       "      <td>22</td>\n",
       "      <td>3</td>\n",
       "      <td>2.163089e+07</td>\n",
       "    </tr>\n",
       "    <tr>\n",
       "      <td>23</td>\n",
       "      <td>4</td>\n",
       "      <td>1.527969e+07</td>\n",
       "    </tr>\n",
       "    <tr>\n",
       "      <td>24</td>\n",
       "      <td>5</td>\n",
       "      <td>1.912994e+07</td>\n",
       "    </tr>\n",
       "    <tr>\n",
       "      <td>25</td>\n",
       "      <td>6</td>\n",
       "      <td>1.564349e+07</td>\n",
       "    </tr>\n",
       "    <tr>\n",
       "      <td>26</td>\n",
       "      <td>7</td>\n",
       "      <td>1.801981e+07</td>\n",
       "    </tr>\n",
       "    <tr>\n",
       "      <td>27</td>\n",
       "      <td>8</td>\n",
       "      <td>2.278512e+07</td>\n",
       "    </tr>\n",
       "    <tr>\n",
       "      <td>28</td>\n",
       "      <td>9</td>\n",
       "      <td>2.941749e+07</td>\n",
       "    </tr>\n",
       "    <tr>\n",
       "      <td>29</td>\n",
       "      <td>10</td>\n",
       "      <td>1.770376e+07</td>\n",
       "    </tr>\n",
       "    <tr>\n",
       "      <td>30</td>\n",
       "      <td>11</td>\n",
       "      <td>3.643604e+07</td>\n",
       "    </tr>\n",
       "    <tr>\n",
       "      <td>31</td>\n",
       "      <td>12</td>\n",
       "      <td>2.683577e+07</td>\n",
       "    </tr>\n",
       "  </tbody>\n",
       "</table>\n",
       "</div>"
      ],
      "text/plain": [
       "    month            je\n",
       "20      1  2.338747e+07\n",
       "21      2  1.294109e+07\n",
       "22      3  2.163089e+07\n",
       "23      4  1.527969e+07\n",
       "24      5  1.912994e+07\n",
       "25      6  1.564349e+07\n",
       "26      7  1.801981e+07\n",
       "27      8  2.278512e+07\n",
       "28      9  2.941749e+07\n",
       "29     10  1.770376e+07\n",
       "30     11  3.643604e+07\n",
       "31     12  2.683577e+07"
      ]
     },
     "execution_count": 166,
     "metadata": {},
     "output_type": "execute_result"
    }
   ],
   "source": [
    "#季节消费人数统计\n",
    "month_cus = data['kh'].groupby([data['year'],data['month_group']])\n",
    "month_cus = month_cus.count().reset_index()"
   ]
  },
  {
   "cell_type": "code",
   "execution_count": 167,
   "metadata": {},
   "outputs": [],
   "source": [
    "cus15 =  month_cus[['kh', 'month_group']].iloc[0:3]\n",
    "cus16 =  month_cus[['kh', 'month_group']].iloc[3:7]\n",
    "cus17 =  month_cus[['kh', 'month_group']].iloc[7:11]\n",
    "cus18 =  month_cus[['kh', 'month_group']].iloc[11:12]"
   ]
  },
  {
   "cell_type": "code",
   "execution_count": 168,
   "metadata": {},
   "outputs": [],
   "source": [
    "cus_15 = []\n",
    "for i in cus15['kh']:\n",
    "    cus_15.append(i)\n",
    "\n",
    "cus_16 = []\n",
    "for i in cus16['kh']:\n",
    "    cus_16.append(i)\n",
    "    \n",
    "cus_17 = []\n",
    "for i in cus17['kh']:\n",
    "    cus_17.append(i)\n",
    "\n",
    "cus_18 = []\n",
    "for i in cus18['kh']:\n",
    "    cus_18.append(i)"
   ]
  },
  {
   "cell_type": "code",
   "execution_count": 169,
   "metadata": {},
   "outputs": [
    {
     "data": {
      "image/png": "[encoded data removed]",
      "text/plain": [
       "<Figure size 432x288 with 1 Axes>"
      ]
     },
     "metadata": {
      "needs_background": "light"
     },
     "output_type": "display_data"
    }
   ],
   "source": [
    "#2015年会员季节消费人数\n",
    "plt.rcParams['font.sans-serif']=['SimHei']\n",
    "plt.rcParams['axes.unicode_minus'] = False\n",
    "y_data = cus_15\n",
    "x_data = ['冬季', '春季', '夏季']\n",
    "plt.title('2015年会员季节消费人数')\n",
    "plt.bar(x_data, y_data)   \n",
    "plt.savefig('./2015年会员季节消费人数.png')      \n",
    "plt.show()"
   ]
  },
  {
   "cell_type": "code",
   "execution_count": 170,
   "metadata": {},
   "outputs": [
    {
     "data": {
      "image/png": "[encoded data removed]",
      "text/plain": [
       "<Figure size 432x288 with 1 Axes>"
      ]
     },
     "metadata": {
      "needs_background": "light"
     },
     "output_type": "display_data"
    }
   ],
   "source": [
    "#2016年会员季节消费人数\n",
    "plt.rcParams['font.sans-serif']=['SimHei']\n",
    "plt.rcParams['axes.unicode_minus'] = False\n",
    "y_data = cus_16\n",
    "x_data = ['冬季', '春季', '夏季', '秋季']\n",
    "plt.title('2016年会员季节消费人数')\n",
    "plt.bar(x_data, y_data)   \n",
    "plt.savefig('./2016年会员季节消费人数.png')      \n",
    "plt.show()"
   ]
  },
  {
   "cell_type": "code",
   "execution_count": 171,
   "metadata": {},
   "outputs": [
    {
     "data": {
      "image/png": "[encoded data removed]",
      "text/plain": [
       "<Figure size 432x288 with 1 Axes>"
      ]
     },
     "metadata": {
      "needs_background": "light"
     },
     "output_type": "display_data"
    }
   ],
   "source": [
    "#2017年会员季节消费人数\n",
    "plt.rcParams['font.sans-serif']=['SimHei']\n",
    "plt.rcParams['axes.unicode_minus'] = False\n",
    "y_data = cus_17\n",
    "x_data = ['冬季', '春季', '夏季', '秋季']\n",
    "plt.title('2017年会员季节消费人数')\n",
    "plt.bar(x_data, y_data)   \n",
    "plt.savefig('./2017年会员季节消费人数.png')      \n",
    "plt.show()"
   ]
  },
  {
   "cell_type": "code",
   "execution_count": 172,
   "metadata": {},
   "outputs": [
    {
     "data": {
      "image/png": "[encoded data removed]",
      "text/plain": [
       "<Figure size 432x288 with 1 Axes>"
      ]
     },
     "metadata": {
      "needs_background": "light"
     },
     "output_type": "display_data"
    }
   ],
   "source": [
    "#2018年会员季节消费人数\n",
    "plt.rcParams['font.sans-serif']=['SimHei']\n",
    "plt.rcParams['axes.unicode_minus'] = False\n",
    "y_data = cus_18\n",
    "x_data = ['冬季']\n",
    "plt.title('2018年会员季节消费人数')\n",
    "plt.bar(x_data, y_data)   \n",
    "plt.savefig('./2018年会员季节消费人数.png')      \n",
    "plt.show()"
   ]
  },
  {
   "cell_type": "code",
   "execution_count": null,
   "metadata": {},
   "outputs": [],
   "source": []
  }
 ],
 "metadata": {
  "kernelspec": {
   "display_name": "Python 3",
   "language": "python",
   "name": "python3"
  },
  "language_info": {
   "codemirror_mode": {
    "name": "ipython",
    "version": 3
   },
   "file_extension": ".py",
   "mimetype": "text/x-python",
   "name": "python",
   "nbconvert_exporter": "python",
   "pygments_lexer": "ipython3",
   "version": "3.7.4"
  }
 },
 "nbformat": 4,
 "nbformat_minor": 2
}
