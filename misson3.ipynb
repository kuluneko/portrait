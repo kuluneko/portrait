{
 "cells": [
  {
   "cell_type": "code",
   "execution_count": 73,
   "metadata": {},
   "outputs": [],
   "source": [
    "import pandas as pd\n",
    "import numpy as np\n",
    "import matplotlib.pyplot as plt\n",
    "import datetime as dt\n",
    "from wordcloud import WordCloud"
   ]
  },
  {
   "cell_type": "code",
   "execution_count": 74,
   "metadata": {
    "scrolled": true
   },
   "outputs": [],
   "source": [
    "data1 = pd.read_excel('./cumcm2018c1.xlsx')\n",
    "data2 = pd.read_csv('./cumcm2018c2.csv', encoding='UTF-8')"
   ]
  },
  {
   "cell_type": "code",
   "execution_count": 75,
   "metadata": {},
   "outputs": [
    {
     "name": "stdout",
     "output_type": "stream",
     "text": [
      "(194740,)\n"
     ]
    }
   ],
   "source": [
    "#重复值处理\n",
    "data1['kh'] = data1['kh'].drop_duplicates()\n",
    "print(data1['kh'].shape)"
   ]
  },
  {
   "cell_type": "code",
   "execution_count": 76,
   "metadata": {},
   "outputs": [],
   "source": [
    "data1['csrq'] = pd.to_datetime(data1['csrq']) #转化为日期格式数据\n",
    "data1['djsj'] = pd.to_datetime(data1['djsj'])\n",
    "data2['dtime'] = pd.to_datetime(data2['dtime'])"
   ]
  },
  {
   "cell_type": "code",
   "execution_count": 77,
   "metadata": {},
   "outputs": [
    {
     "data": {
      "text/plain": [
       "kh       0\n",
       "dtime    0\n",
       "spbm     0\n",
       "sl       0\n",
       "sj       0\n",
       "je       0\n",
       "spmc     0\n",
       "jf       0\n",
       "syjh     0\n",
       "djh      0\n",
       "gzbm     0\n",
       "gzmc     0\n",
       "dtype: int64"
      ]
     },
     "execution_count": 77,
     "metadata": {},
     "output_type": "execute_result"
    }
   ],
   "source": [
    "data1 = data1.dropna()#缺失值处理\n",
    "data2 = data2.dropna()\n",
    "data1.isnull().sum()\n",
    "data2.isnull().sum()"
   ]
  },
  {
   "cell_type": "code",
   "execution_count": 78,
   "metadata": {},
   "outputs": [
    {
     "name": "stdout",
     "output_type": "stream",
     "text": [
      "           sl       sj       je      jf    syjh    gzbm\n",
      "count  849697   849697   849697  849697  849697  849697\n",
      "mean        1     1400     1375    1066     106    6313\n",
      "std         1     3247     3238    2012      82    2373\n",
      "min         1        0        0       0       1    1001\n",
      "25%         1      330      324     190      41    4334\n",
      "50%         1      695      690     520      97    8064\n",
      "75%         1     1584     1550    1282     156    8123\n",
      "max      1492  1342515  1342515  268503     320    9005\n"
     ]
    }
   ],
   "source": [
    "#异常值处理\n",
    "data2.describe().astype(int)\n",
    "data2 = data2.drop(data2[data2.sl < 0].index)\n",
    "data2 = data2.drop(data2[data2.je < 0].index)\n",
    "data2 = data2.drop(data2[data2.jf < 0].index)\n",
    "print(data2.describe().astype(int))"
   ]
  },
  {
   "cell_type": "code",
   "execution_count": 79,
   "metadata": {},
   "outputs": [],
   "source": [
    "data = pd.merge(data1,data2, on='kh')#合并会员表与销售表"
   ]
  },
  {
   "cell_type": "code",
   "execution_count": 80,
   "metadata": {},
   "outputs": [],
   "source": [
    "kh = data['spbm'].groupby(data['kh'])#会员用户信息表\n",
    "kh = kh.count().reset_index()\n",
    "user = kh['kh']\n",
    "user = user.reset_index()\n",
    "user = pd.merge(data1,user, on='kh')"
   ]
  },
  {
   "cell_type": "code",
   "execution_count": 81,
   "metadata": {},
   "outputs": [],
   "source": [
    "#计算年龄\n",
    "now_year = dt.date.today().year-2\n",
    "user['年龄'] =now_year-user.csrq.dt.year\n",
    "user = user.drop('index',axis=1)\n",
    "user = user.drop('csrq',axis=1)\n",
    "user.columns = ['会员卡号','性别','会员注册时间','年龄']"
   ]
  },
  {
   "cell_type": "code",
   "execution_count": 82,
   "metadata": {},
   "outputs": [
    {
     "data": {
      "text/plain": [
       "count    31145\n",
       "mean        41\n",
       "std         10\n",
       "min         16\n",
       "25%         33\n",
       "50%         41\n",
       "75%         48\n",
       "max         97\n",
       "Name: 年龄, dtype: int32"
      ]
     },
     "execution_count": 82,
     "metadata": {},
     "output_type": "execute_result"
    }
   ],
   "source": [
    "user = user.drop(user[user.年龄 > 100].index)#将年龄不符合常理的数据剔除\n",
    "user = user.drop(user[user.年龄 < 15].index)\n",
    "user['年龄'].describe().astype(int)"
   ]
  },
  {
   "cell_type": "code",
   "execution_count": 83,
   "metadata": {},
   "outputs": [],
   "source": [
    "listBins = [15,35,60,100]#年龄层分层\n",
    "listLabels = ['青年', '中年', '老年']\n",
    "ap = user[['年龄']]\n",
    "for i in ap:\n",
    "    user['年龄层'] = pd.cut(user[i], bins=listBins, labels=listLabels, include_lowest=True)"
   ]
  },
  {
   "cell_type": "code",
   "execution_count": 84,
   "metadata": {},
   "outputs": [],
   "source": [
    "user['性别'] = user['性别'].replace(1,'男')#将性别转换为中文\n",
    "user['性别'] = user['性别'].replace(0,'女')"
   ]
  },
  {
   "cell_type": "code",
   "execution_count": 85,
   "metadata": {},
   "outputs": [],
   "source": [
    "jf = data['jf'].groupby(data['kh'])#会员积分\n",
    "jf = jf.sum().reset_index()\n",
    "user = pd.merge(user,jf, left_on='会员卡号',right_on='kh',how='inner')\n",
    "user = user.drop('kh',axis=1)\n",
    "user.columns = ['会员卡号','性别','会员注册时间','年龄','年龄层','会员积分']"
   ]
  },
  {
   "cell_type": "code",
   "execution_count": 86,
   "metadata": {},
   "outputs": [
    {
     "data": {
      "text/plain": [
       "count      31145\n",
       "mean       14056\n",
       "std        37501\n",
       "min            0\n",
       "25%         1300\n",
       "50%         3980\n",
       "75%        11774\n",
       "max      1396714\n",
       "Name: 会员积分, dtype: int32"
      ]
     },
     "execution_count": 86,
     "metadata": {},
     "output_type": "execute_result"
    }
   ],
   "source": [
    "user = user.drop(user[user.会员积分 < 0].index)#将会员积分不符合常理的数据剔除\n",
    "user['会员积分'].describe().astype(int)"
   ]
  },
  {
   "cell_type": "code",
   "execution_count": 87,
   "metadata": {},
   "outputs": [],
   "source": [
    "listBins = [0,3000,5000,10000]#积分分层\n",
    "listLabels = ['积分等级低', '积分等级中', '积分等级高']\n",
    "ap = user[['会员积分']]\n",
    "for i in ap:\n",
    "    user['积分等级'] = pd.cut(user[i], bins=listBins, labels=listLabels, include_lowest=True)\n",
    "user['积分等级'] = user['积分等级'].fillna('积分等级高')"
   ]
  },
  {
   "cell_type": "code",
   "execution_count": 88,
   "metadata": {},
   "outputs": [],
   "source": [
    "data['total'] = data.je#每次购物的消费金额\n",
    "total_cus = data['total'].groupby(data['kh'])\n",
    "total_cus = total_cus.sum().reset_index()\n",
    "user = pd.merge(user,total_cus, left_on='会员卡号',right_on='kh',how='inner')\n",
    "user = user.drop('kh',axis=1)\n",
    "user.columns = ['会员卡号','性别','会员注册时间','年龄','年龄层','会员积分','积分等级','消费金额']"
   ]
  },
  {
   "cell_type": "code",
   "execution_count": 89,
   "metadata": {},
   "outputs": [
    {
     "data": {
      "text/plain": [
       "count      31145\n",
       "mean       18313\n",
       "std        51612\n",
       "min            0\n",
       "25%         1848\n",
       "50%         5235\n",
       "75%        15526\n",
       "max      3257257\n",
       "Name: 消费金额, dtype: int32"
      ]
     },
     "execution_count": 89,
     "metadata": {},
     "output_type": "execute_result"
    }
   ],
   "source": [
    "user = user.drop(user[user.消费金额 < 0].index)#将消费金额中不符合常理的数据剔除\n",
    "user['消费金额'].describe().astype(int) "
   ]
  },
  {
   "cell_type": "code",
   "execution_count": 90,
   "metadata": {},
   "outputs": [],
   "source": [
    "listBins = [0,5000,10000,15000]#消费水平分层\n",
    "listLabels = ['低消费', '中消费', '高消费']\n",
    "ap = user[['消费金额']]\n",
    "for i in ap:\n",
    "    user['消费水平'] = pd.cut(user[i], bins=listBins, labels=listLabels, include_lowest=True)\n",
    "user['消费水平'] = user['消费水平'].fillna('高消费')"
   ]
  },
  {
   "cell_type": "code",
   "execution_count": 91,
   "metadata": {},
   "outputs": [],
   "source": [
    "cus = data['djh'].groupby(data['kh']).count().reset_index()#消费次数\n",
    "user = pd.merge(user,cus, left_on='会员卡号',right_on='kh',how='inner')\n",
    "user = user.drop('kh',axis=1)\n",
    "user.columns = ['会员卡号','性别','会员注册时间','年龄','年龄层','会员积分','积分等级','消费金额','消费水平','消费次数']"
   ]
  },
  {
   "cell_type": "code",
   "execution_count": 92,
   "metadata": {},
   "outputs": [],
   "source": [
    "spmc = data.groupby(by=['kh'])[['spmc','gzmc']].agg({\"喜好的商品类别统计\":np.max})#商品偏好\n",
    "user = pd.merge(user,spmc, left_on='会员卡号',right_on='kh',how='inner')\n",
    "user.columns = ['会员卡号','性别','会员注册时间','年龄',\n",
    "                '年龄层','会员积分','积分等级','消费金额',\n",
    "                '消费水平','消费次数','喜好的商品','喜好的商品柜台']"
   ]
  },
  {
   "cell_type": "code",
   "execution_count": 93,
   "metadata": {},
   "outputs": [
    {
     "name": "stderr",
     "output_type": "stream",
     "text": [
      "C:\\Users\\zzx\\Anaconda3\\lib\\site-packages\\ipykernel_launcher.py:2: SettingWithCopyWarning: \n",
      "A value is trying to be set on a copy of a slice from a DataFrame.\n",
      "Try using .loc[row_indexer,col_indexer] = value instead\n",
      "\n",
      "See the caveats in the documentation: http://pandas.pydata.org/pandas-docs/stable/user_guide/indexing.html#returning-a-view-versus-a-copy\n",
      "  \n",
      "C:\\Users\\zzx\\Anaconda3\\lib\\site-packages\\ipykernel_launcher.py:3: SettingWithCopyWarning: \n",
      "A value is trying to be set on a copy of a slice from a DataFrame.\n",
      "Try using .loc[row_indexer,col_indexer] = value instead\n",
      "\n",
      "See the caveats in the documentation: http://pandas.pydata.org/pandas-docs/stable/user_guide/indexing.html#returning-a-view-versus-a-copy\n",
      "  This is separate from the ipykernel package so we can avoid doing imports until\n"
     ]
    }
   ],
   "source": [
    "date = data[['kh','dtime']]#提取月日\n",
    "date['month'] = data.dtime.dt.month\n",
    "date['hour'] = data.dtime.dt.hour"
   ]
  },
  {
   "cell_type": "code",
   "execution_count": 95,
   "metadata": {},
   "outputs": [
    {
     "name": "stderr",
     "output_type": "stream",
     "text": [
      "C:\\Users\\zzx\\Anaconda3\\lib\\site-packages\\ipykernel_launcher.py:5: SettingWithCopyWarning: \n",
      "A value is trying to be set on a copy of a slice from a DataFrame.\n",
      "Try using .loc[row_indexer,col_indexer] = value instead\n",
      "\n",
      "See the caveats in the documentation: http://pandas.pydata.org/pandas-docs/stable/user_guide/indexing.html#returning-a-view-versus-a-copy\n",
      "  \"\"\"\n",
      "C:\\Users\\zzx\\Anaconda3\\lib\\site-packages\\ipykernel_launcher.py:7: SettingWithCopyWarning: \n",
      "A value is trying to be set on a copy of a slice from a DataFrame.\n",
      "Try using .loc[row_indexer,col_indexer] = value instead\n",
      "\n",
      "See the caveats in the documentation: http://pandas.pydata.org/pandas-docs/stable/user_guide/indexing.html#returning-a-view-versus-a-copy\n",
      "  import sys\n"
     ]
    }
   ],
   "source": [
    "listBins = [1,3,6,9,12]#季节划分\n",
    "listLabels = ['冬季','春季','夏季','秋季']\n",
    "mg = date[['month']]\n",
    "for i in mg:\n",
    "    date['季节偏好'] = pd.cut(date[i], bins=listBins, right=False, labels=listLabels, include_lowest=True, duplicates='drop')\n",
    "\n",
    "date['季节偏好'] = date['季节偏好'].fillna('冬季')"
   ]
  },
  {
   "cell_type": "code",
   "execution_count": 96,
   "metadata": {},
   "outputs": [
    {
     "name": "stderr",
     "output_type": "stream",
     "text": [
      "C:\\Users\\zzx\\Anaconda3\\lib\\site-packages\\ipykernel_launcher.py:5: SettingWithCopyWarning: \n",
      "A value is trying to be set on a copy of a slice from a DataFrame.\n",
      "Try using .loc[row_indexer,col_indexer] = value instead\n",
      "\n",
      "See the caveats in the documentation: http://pandas.pydata.org/pandas-docs/stable/user_guide/indexing.html#returning-a-view-versus-a-copy\n",
      "  \"\"\"\n"
     ]
    }
   ],
   "source": [
    "listBins = [0,6,11,13,18,24]#时间段划分\n",
    "listLabels = ['凌晨', '早上', '中午', '下午', '晚上']\n",
    "hg = date[['hour']]\n",
    "for i in hg:\n",
    "    date['时间段偏好'] = pd.cut(date[i], bins=listBins, labels=listLabels, include_lowest=True)"
   ]
  },
  {
   "cell_type": "code",
   "execution_count": 97,
   "metadata": {},
   "outputs": [],
   "source": [
    "date = date.drop('dtime',axis=1)\n",
    "date = date.drop('month',axis=1)\n",
    "date = date.drop('hour',axis=1)\n",
    "user = pd.merge(user,date, left_on='会员卡号',right_on='kh',how='inner')\n",
    "user = user.drop('kh',axis=1)"
   ]
  },
  {
   "cell_type": "code",
   "execution_count": 98,
   "metadata": {},
   "outputs": [],
   "source": [
    "portrait = user[['会员卡号','性别','年龄层','积分等级','消费水平','消费次数','喜好的商品','喜好的商品柜台','季节偏好','时间段偏好']]"
   ]
  },
  {
   "cell_type": "code",
   "execution_count": 99,
   "metadata": {},
   "outputs": [
    {
     "data": {
      "image/png": "[encoded data removed]",
      "text/plain": [
       "<Figure size 432x288 with 1 Axes>"
      ]
     },
     "metadata": {
      "needs_background": "light"
     },
     "output_type": "display_data"
    },
    {
     "data": {
      "text/plain": [
       "<wordcloud.wordcloud.WordCloud at 0x2c289db7c88>"
      ]
     },
     "execution_count": 99,
     "metadata": {},
     "output_type": "execute_result"
    }
   ],
   "source": [
    "#随机抽取\n",
    "random = portrait.sample(n=1,random_state=0)\n",
    "random.to_csv('./random.txt', sep='\\t',index=False, header=None)\n",
    "#绘制词云\n",
    "path_txt='D://python-workspace/random.txt'\n",
    "f = open(path_txt,'r',encoding='UTF-8').read()\n",
    "w = wordcloud = WordCloud(\n",
    "    font_path=\"C:/Windows/Fonts/simfang.ttf\",\n",
    "    background_color=\"black\",\n",
    "    width=1200,height=1300).generate(f)\n",
    "plt.imshow(wordcloud, interpolation=\"bilinear\")\n",
    "plt.axis(\"off\")\n",
    "plt.show()\n",
    "w.to_file(\"wordcloud.png\")"
   ]
  },
  {
   "cell_type": "code",
   "execution_count": 214,
   "metadata": {},
   "outputs": [
    {
     "data": {
      "image/png": "[encoded data removed]",
      "text/plain": [
       "<Figure size 432x288 with 1 Axes>"
      ]
     },
     "metadata": {
      "needs_background": "light"
     },
     "output_type": "display_data"
    },
    {
     "data": {
      "text/plain": [
       "<wordcloud.wordcloud.WordCloud at 0x1b0856b81c8>"
      ]
     },
     "execution_count": 214,
     "metadata": {},
     "output_type": "execute_result"
    }
   ],
   "source": []
  },
  {
   "cell_type": "code",
   "execution_count": 210,
   "metadata": {},
   "outputs": [],
   "source": []
  },
  {
   "cell_type": "code",
   "execution_count": 211,
   "metadata": {},
   "outputs": [
    {
     "data": {
      "text/html": [
       "<div>\n",
       "<style scoped>\n",
       "    .dataframe tbody tr th:only-of-type {\n",
       "        vertical-align: middle;\n",
       "    }\n",
       "\n",
       "    .dataframe tbody tr th {\n",
       "        vertical-align: top;\n",
       "    }\n",
       "\n",
       "    .dataframe thead th {\n",
       "        text-align: right;\n",
       "    }\n",
       "</style>\n",
       "<table border=\"1\" class=\"dataframe\">\n",
       "  <thead>\n",
       "    <tr style=\"text-align: right;\">\n",
       "      <th></th>\n",
       "      <th>会员卡号</th>\n",
       "      <th>性别</th>\n",
       "      <th>年龄层</th>\n",
       "      <th>积分等级</th>\n",
       "      <th>消费水平</th>\n",
       "      <th>消费次数</th>\n",
       "      <th>喜好的商品</th>\n",
       "      <th>喜好的商品柜台</th>\n",
       "      <th>月份偏好</th>\n",
       "      <th>时间段偏好</th>\n",
       "    </tr>\n",
       "  </thead>\n",
       "  <tbody>\n",
       "    <tr>\n",
       "      <td>133781</td>\n",
       "      <td>2af0c762</td>\n",
       "      <td>女</td>\n",
       "      <td>中年</td>\n",
       "      <td>积分等级高</td>\n",
       "      <td>中消费</td>\n",
       "      <td>20</td>\n",
       "      <td>莱尔斯丹 C件</td>\n",
       "      <td>莱尔斯丹（新）</td>\n",
       "      <td>春季</td>\n",
       "      <td>中午</td>\n",
       "    </tr>\n",
       "  </tbody>\n",
       "</table>\n",
       "</div>"
      ],
      "text/plain": [
       "            会员卡号 性别 年龄层   积分等级 消费水平  消费次数    喜好的商品  喜好的商品柜台 月份偏好 时间段偏好\n",
       "133781  2af0c762  女  中年  积分等级高  中消费    20  莱尔斯丹 C件  莱尔斯丹（新）   春季    中午"
      ]
     },
     "execution_count": 211,
     "metadata": {},
     "output_type": "execute_result"
    }
   ],
   "source": []
  },
  {
   "cell_type": "code",
   "execution_count": null,
   "metadata": {},
   "outputs": [],
   "source": []
  }
 ],
 "metadata": {
  "kernelspec": {
   "display_name": "Python 3",
   "language": "python",
   "name": "python3"
  },
  "language_info": {
   "codemirror_mode": {
    "name": "ipython",
    "version": 3
   },
   "file_extension": ".py",
   "mimetype": "text/x-python",
   "name": "python",
   "nbconvert_exporter": "python",
   "pygments_lexer": "ipython3",
   "version": "3.7.4"
  }
 },
 "nbformat": 4,
 "nbformat_minor": 2
}
